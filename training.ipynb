{
 "cells": [
  {
   "cell_type": "markdown",
   "id": "3821c17c",
   "metadata": {},
   "source": [
    "# MATLAB with Amazon SageMaker Processing Job\n",
    "\n",
    "1. [Getting ECR Images from setup notebook](#1.-Getting-ECR-Image-from-setup-notebook)\n",
    "2. [SageMaker processor](#2.-SageMaker-processor)\n",
    "    1. [Write the MATLAB script `main.m`](#2.1-Write-the-MATLAB-script)\n",
    "    2. [SageMaker training job](#2.2-SageMaker-training-job)\n",
    "    3. [Getting results back and printing accuracy](#2.3-Getting-results-back-from-training-container-to-SageMaker-instance)"
   ]
  },
  {
   "cell_type": "markdown",
   "id": "e63e705d",
   "metadata": {},
   "source": [
    "## 1. Getting ECR Image from setup notebook"
   ]
  },
  {
   "cell_type": "code",
   "execution_count": null,
   "id": "94a32e02",
   "metadata": {},
   "outputs": [],
   "source": [
    "from sagemaker import get_execution_role\n",
    "import pandas as pd\n",
    "import sagemaker\n",
    "import boto3\n",
    "import os\n",
    "\n",
    "role = get_execution_role()\n",
    "print(role)"
   ]
  },
  {
   "cell_type": "markdown",
   "id": "78209e89",
   "metadata": {},
   "source": [
    "You can refer the `setup.ipynb` notebook to push your MATLAB docker image to Amazon ECR"
   ]
  },
  {
   "cell_type": "code",
   "execution_count": null,
   "id": "86735edf",
   "metadata": {},
   "outputs": [],
   "source": [
    "account_id = boto3.client('sts').get_caller_identity().get('Account')\n",
    "region = boto3.Session().region_name\n",
    "\n",
    "# Your ECR repo name\n",
    "ecr_repository = 'sagemaker-demo-ecr'\n",
    "tag = ':matlab'\n",
    "processing_repository_uri = '{}.dkr.ecr.{}.amazonaws.com/{}'.format(account_id, region, ecr_repository + tag)\n",
    "\n",
    "print(\"ECR Repository Name: \", ecr_repository)\n",
    "print(\"ECR Repository URI:\", processing_repository_uri)"
   ]
  },
  {
   "cell_type": "markdown",
   "id": "c593f37e",
   "metadata": {},
   "source": [
    "## 2. SageMaker training  "
   ]
  },
  {
   "cell_type": "markdown",
   "id": "c2ee681b",
   "metadata": {},
   "source": [
    "### 2.1 Write the MATLAB script"
   ]
  },
  {
   "cell_type": "markdown",
   "id": "d87a0695",
   "metadata": {},
   "source": [
    "The training code is written in the file “main.m”. It is inspired from MathWorks example - [Create Simple Deep Learning Network for Classification](https://www.mathworks.com/help/deeplearning/ug/create-simple-deep-learning-network-for-classification.html). \n",
    "\n",
    "Overview of the script - \n",
    "\n",
    "- Load the digit sample dataset as an [image datastore](https://www.mathworks.com/help/matlab/ref/matlab.io.datastore.imagedatastore.html).\n",
    "- splits the dataset into training & testing set.\n",
    "- define the convolutional neural network architecture.\n",
    "- specify training options.\n",
    "- train the network.\n",
    "- classify validation images and compute accuracy.\n"
   ]
  },
  {
   "cell_type": "code",
   "execution_count": null,
   "id": "53c91d1a",
   "metadata": {},
   "outputs": [],
   "source": [
    "%%writefile train.m\n",
    "\n",
    "rng(10); % For reproducibility\n",
    "\n",
    "tic\n",
    "disp('starting the Deep Learning Example')\n",
    "\n",
    "digitDatasetPath = fullfile(matlabroot,'toolbox','nnet','nndemos', ...\n",
    "    'nndatasets','DigitDataset');\n",
    "imds = imageDatastore(digitDatasetPath, ...\n",
    "    'IncludeSubfolders',true,'LabelSource','foldernames');\n",
    "\n",
    "disp('dataset loaded in memory')\n",
    "prefixPath = '/opt/ml/'\n",
    "modelPath = append(prefixPath, 'model/')\n",
    "\n",
    "[imdsTrain,imdsValidation] = splitEachLabel(imds,750,'randomize');\n",
    "\n",
    "layers = [\n",
    "    imageInputLayer([28 28 1])\n",
    "\n",
    "    convolution2dLayer(3,8,'Padding','same')\n",
    "    batchNormalizationLayer\n",
    "    reluLayer\n",
    "\n",
    "    maxPooling2dLayer(2,'Stride',2)\n",
    "\n",
    "    convolution2dLayer(3,16,'Padding','same')\n",
    "    batchNormalizationLayer\n",
    "    reluLayer\n",
    "\n",
    "    maxPooling2dLayer(2,'Stride',2)\n",
    "\n",
    "    convolution2dLayer(3,32,'Padding','same')\n",
    "    batchNormalizationLayer\n",
    "    reluLayer\n",
    "\n",
    "    fullyConnectedLayer(10)\n",
    "    softmaxLayer\n",
    "    classificationLayer];\n",
    "\n",
    "\n",
    "options = trainingOptions('sgdm', ...\n",
    "    'InitialLearnRate',0.01, ...\n",
    "    'MaxEpochs',4, ...\n",
    "    'Shuffle','every-epoch', ...\n",
    "    'ValidationData',imdsValidation, ...\n",
    "    'ValidationFrequency',30, ...\n",
    "    'Verbose',false, ...\n",
    "    'Plots','training-progress');\n",
    "\n",
    "\n",
    "disp('Training started')\n",
    "\n",
    "net = trainNetwork(imdsTrain,layers,options);\n",
    "\n",
    "save(append(modelPath, 'model.mat'),'net')\n",
    "disp('Training finsished')\n",
    "\n",
    "YPred = classify(net,imdsValidation);\n",
    "YValidation = imdsValidation.Labels;\n",
    "\n",
    "accuracy = 100*(sum(YPred == YValidation)/numel(YValidation));\n",
    "toc\n",
    "disp('Accuracy - ' + string(accuracy))\n",
    "\n",
    "try\n",
    "    fileID = fopen(append(modelPath, 'results.txt'),'w');\n",
    "    disp(fileID)\n",
    "    if fileID==-1\n",
    "        disp('cannot open file properly')\n",
    "    else\n",
    "        fprintf(fileID,'Accuracy - %g\\n', accuracy);\n",
    "        fclose(fileID);\n",
    "    end\n",
    "catch\n",
    "    disp('error saving file to output')\n",
    "end"
   ]
  },
  {
   "cell_type": "markdown",
   "id": "d5fb5f9d",
   "metadata": {},
   "source": [
    "Upload `train.m` file to your S3 bucket for the MATLAB training container to access."
   ]
  },
  {
   "cell_type": "code",
   "execution_count": null,
   "id": "3442842b",
   "metadata": {},
   "outputs": [],
   "source": [
    "s3 = boto3.resource('s3')\n",
    "s3.meta.client.upload_file('train.m', 'mthakker-example-dataset', 'digit-dataset/code/train.m')"
   ]
  },
  {
   "cell_type": "markdown",
   "id": "b8b0a65d",
   "metadata": {},
   "source": [
    "### 2.2 SageMaker training job"
   ]
  },
  {
   "cell_type": "markdown",
   "id": "38d6ff2e",
   "metadata": {},
   "source": [
    "Create Training job configuration.\n",
    "For more information - https://docs.aws.amazon.com/sagemaker/latest/APIReference/API_CreateTrainingJob.html"
   ]
  },
  {
   "cell_type": "code",
   "execution_count": null,
   "id": "b09c2319",
   "metadata": {},
   "outputs": [],
   "source": [
    "import time\n",
    "matlab_job = 'TRAIN-matlab-' + time.strftime(\"%Y-%m-%d-%H-%M-%S\", time.gmtime()) # Training job name\n",
    "\n",
    "print(\"Training job\", matlab_job)\n",
    "\n",
    "bucket = 'mthakker-example-dataset' # Name of the bucket where code is stored\n",
    "prefix = 'digit-dataset'\n",
    "\n",
    "matlab_training_params = {\n",
    "    \"RoleArn\": role,\n",
    "    \"TrainingJobName\": matlab_job,\n",
    "    \"EnableManagedSpotTraining\": True,\n",
    "    \"AlgorithmSpecification\": {\n",
    "        \"TrainingImage\": processing_repository_uri,\n",
    "        \"TrainingInputMode\": \"File\"\n",
    "    },\n",
    "    \"ResourceConfig\": {\n",
    "        \"InstanceCount\": 1,\n",
    "        \"InstanceType\": \"ml.m4.xlarge\",\n",
    "        \"VolumeSizeInGB\": 25\n",
    "    },\n",
    "    \"OutputDataConfig\": {\n",
    "        \"S3OutputPath\": \"s3://{}/{}/output\".format(bucket, prefix)\n",
    "    },\n",
    "    \"InputDataConfig\": [\n",
    "        {\n",
    "            \"ChannelName\": \"code\",\n",
    "            \"DataSource\": {\n",
    "                \"S3DataSource\": {\n",
    "                    \"S3DataType\": \"S3Prefix\",\n",
    "                    \"S3Uri\": \"s3://{}/{}/code\".format(bucket, prefix),\n",
    "                    \"S3DataDistributionType\": \"FullyReplicated\"\n",
    "                }\n",
    "            },\n",
    "            \"CompressionType\": \"None\",\n",
    "            \"RecordWrapperType\": \"None\"\n",
    "        }\n",
    "    ],\n",
    "    \"VpcConfig\" : {\n",
    "        \"SecurityGroupIds\": [\n",
    "            \"sg-0a309c5a52ca2d061\"\n",
    "        ],\n",
    "        \"Subnets\": [\n",
    "            \"subnet-81733da0\"\n",
    "        ]\n",
    "    },\n",
    "    \"StoppingCondition\": {\n",
    "        \"MaxRuntimeInSeconds\": 60 * 20,\n",
    "        \"MaxWaitTimeInSeconds\": 60 * 30,\n",
    "    },\n",
    "    \"Environment\": {\n",
    "        \"MLM_LICENSE_FILE\": \"27000@172.31.90.211\",\n",
    "        \"MATLAB_USE_USERWORK\": \"1\",\n",
    "        \"MATLAB_USERWORKDIR\": \"/opt/ml/input/data/code\"\n",
    "    }\n",
    "}"
   ]
  },
  {
   "cell_type": "markdown",
   "id": "40b59eb4",
   "metadata": {},
   "source": [
    "Run training job with the configurations created above."
   ]
  },
  {
   "cell_type": "code",
   "execution_count": null,
   "id": "692f1809",
   "metadata": {},
   "outputs": [],
   "source": [
    "%%time\n",
    "sm = boto3.client('sagemaker')\n",
    "sm.create_training_job(**matlab_training_params)\n",
    "\n",
    "status = sm.describe_training_job(TrainingJobName=matlab_job)['TrainingJobStatus']\n",
    "print(status)\n",
    "sm.get_waiter('training_job_completed_or_stopped').wait(TrainingJobName=matlab_job)\n",
    "status = sm.describe_training_job(TrainingJobName=matlab_job)['TrainingJobStatus']\n",
    "print(\"Training job ended with status: \" + status)\n",
    "if status == 'Failed':\n",
    "    message = sm.describe_training_job(TrainingJobName=matlab_job)['FailureReason']\n",
    "    print('Training failed with the following error: {}'.format(message))\n",
    "    raise Exception('Training job failed')"
   ]
  },
  {
   "cell_type": "markdown",
   "id": "ab48c04f",
   "metadata": {},
   "source": [
    "### 2.3 Getting results back from training container to SageMaker instance"
   ]
  },
  {
   "cell_type": "markdown",
   "id": "06d5cf63",
   "metadata": {},
   "source": [
    "We extract the S3 path of the `results.txt` from the training job, read the contents of the file via [`pd.read_csv`](https://pandas.pydata.org/docs/reference/api/pandas.read_csv.html) function and print the accuracy. "
   ]
  },
  {
   "cell_type": "code",
   "execution_count": null,
   "id": "ed87ed04",
   "metadata": {},
   "outputs": [],
   "source": [
    "s3_output_dir = sm.describe_training_job(TrainingJobName=matlab_job)['ModelArtifacts']['S3ModelArtifacts']\n",
    "!aws s3 cp $s3_output_dir output.tar.gz\n",
    "!tar -xf output.tar.gz"
   ]
  },
  {
   "cell_type": "code",
   "execution_count": null,
   "id": "820b268b",
   "metadata": {},
   "outputs": [],
   "source": [
    "df = pd.read_csv('results.txt', header=None)"
   ]
  },
  {
   "cell_type": "code",
   "execution_count": null,
   "id": "899549d0",
   "metadata": {},
   "outputs": [],
   "source": [
    "print(df[0][0])"
   ]
  }
 ],
 "metadata": {
  "kernelspec": {
   "display_name": "conda_python3",
   "language": "python",
   "name": "conda_python3"
  },
  "language_info": {
   "codemirror_mode": {
    "name": "ipython",
    "version": 3
   },
   "file_extension": ".py",
   "mimetype": "text/x-python",
   "name": "python",
   "nbconvert_exporter": "python",
   "pygments_lexer": "ipython3",
   "version": "3.6.13"
  }
 },
 "nbformat": 4,
 "nbformat_minor": 5
}
